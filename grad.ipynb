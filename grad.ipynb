{
 "cells": [
  {
   "cell_type": "code",
   "execution_count": 70,
   "metadata": {},
   "outputs": [],
   "source": [
    "import torch"
   ]
  },
  {
   "cell_type": "code",
   "execution_count": 74,
   "metadata": {},
   "outputs": [],
   "source": [
    "def f(x1, x2, x3):\n",
    "    return (x1 -  2 * x2 -1)**2 + (x2 * x3 -1)**2 + 1\n",
    "\n",
    "def f_grad(x1, x2, x3):\n",
    "    z = f(x1, x2, x3)\n",
    "#     print(\"z : \" + str(z))\n",
    "    z.backward()\n",
    "#     print(\"x1.grad  : \" + str(x1.grad))\n",
    "    return (x1.grad, x2.grad, x3.grad)"
   ]
  },
  {
   "cell_type": "code",
   "execution_count": 75,
   "metadata": {},
   "outputs": [],
   "source": [
    "x1 = torch.tensor([1.], requires_grad=True)\n",
    "x2 = torch.tensor([2.], requires_grad=True)\n",
    "x3 = torch.tensor([3.], requires_grad=True)"
   ]
  },
  {
   "cell_type": "code",
   "execution_count": 76,
   "metadata": {},
   "outputs": [
    {
     "name": "stdout",
     "output_type": "stream",
     "text": [
      "x = [ 1.7999999523162842 -2.5999999046325684 1.0 ], f =  <built-in method item of Tensor object at 0x111905090>\n",
      "x = [ 0.5999999046325684 0.5200002193450928 -0.871999979019165 ], f =  <built-in method item of Tensor object at 0x111905d80>\n",
      "x = [ 0.8880000114440918 -0.3094799518585205 -0.7208421230316162 ], f =  <built-in method item of Tensor object at 0x111905ca8>\n",
      "x = [ 0.7866080403327942 -0.21870242059230804 -0.7689299583435059 ], f =  <built-in method item of Tensor object at 0x10a08a048>\n",
      "x = [ 0.7418054938316345 -0.25702157616615295 -0.8053147196769714 ], f =  <built-in method item of Tensor object at 0x111905f78>\n",
      "x = [ 0.6906357407569885 -0.2824077308177948 -0.8460792303085327 ], f =  <built-in method item of Tensor object at 0x11142c048>\n",
      "x = [ 0.6395455002784729 -0.309010773897171 -0.889065146446228 ], f =  <built-in method item of Tensor object at 0x111983870>\n",
      "x = [ 0.588032066822052 -0.33494630455970764 -0.9338883757591248 ], f =  <built-in method item of Tensor object at 0x111983ee8>\n",
      "x = [ 0.5364471077919006 -0.36012959480285645 -0.9799232482910156 ], f =  <built-in method item of Tensor object at 0x1118e2ca8>\n",
      "x = [ 0.48510587215423584 -0.3842688798904419 -1.0265312194824219 ], f =  <built-in method item of Tensor object at 0x110b394c8>\n",
      "x = [ 0.43437713384628296 -0.40713173151016235 -1.0730689764022827 ], f =  <built-in method item of Tensor object at 0x111983ee8>\n",
      "x = [ 0.38464903831481934 -0.42852872610092163 -1.1189217567443848 ], f =  <built-in method item of Tensor object at 0x111973798>\n",
      "x = [ 0.33630773425102234 -0.4483281075954437 -1.1635324954986572 ], f =  <built-in method item of Tensor object at 0x111973b40>\n",
      "x = [ 0.2897149622440338 -0.4664590060710907 -1.206424593925476 ], f =  <built-in method item of Tensor object at 0x111983ee8>\n",
      "x = [ 0.24518835544586182 -0.4829082190990448 -1.2472167015075684 ], f =  <built-in method item of Tensor object at 0x111973798>\n",
      "x = [ 0.202987402677536 -0.4977121353149414 -1.285628080368042 ], f =  <built-in method item of Tensor object at 0x111973f78>\n",
      "x = [ 0.16330505907535553 -0.5109454393386841 -1.3214759826660156 ], f =  <built-in method item of Tensor object at 0x11190a1f8>\n",
      "x = [ 0.12626586854457855 -0.5227096080780029 -1.354666829109192 ], f =  <built-in method item of Tensor object at 0x11190a288>\n",
      "x = [ 0.09192884713411331 -0.5331217646598816 -1.3851828575134277 ], f =  <built-in method item of Tensor object at 0x111973f78>\n",
      "x = [ 0.06029437109827995 -0.5423058867454529 -1.413068175315857 ], f =  <built-in method item of Tensor object at 0x11190a1f8>\n",
      "x = [ 0.03131313621997833 -0.5503859519958496 -1.4384138584136963 ], f =  <built-in method item of Tensor object at 0x11190a288>\n",
      "x = [ 0.004896119236946106 -0.5574811697006226 -1.461344838142395 ], f =  <built-in method item of Tensor object at 0x111973f78>\n",
      "x = [ -0.019075581803917885 -0.5637032985687256 -1.4820082187652588 ], f =  <built-in method item of Tensor object at 0x11190a1f8>\n",
      "x = [ -0.040741775184869766 -0.5691547989845276 -1.5005638599395752 ], f =  <built-in method item of Tensor object at 0x11190a288>\n",
      "x = [ -0.06025533378124237 -0.57392817735672 -1.5171771049499512 ], f =  <built-in method item of Tensor object at 0x111973f78>\n",
      "x = [ -0.07777554541826248 -0.5781065821647644 -1.5320130586624146 ], f =  <built-in method item of Tensor object at 0x11190a1f8>\n",
      "x = [ -0.09346306324005127 -0.581763505935669 -1.5452324151992798 ], f =  <built-in method item of Tensor object at 0x111914510>\n",
      "x = [ -0.10747585445642471 -0.5849640369415283 -1.5569887161254883 ], f =  <built-in method item of Tensor object at 0x111973f78>\n",
      "x = [ -0.1199662908911705 -0.5877653360366821 -1.5674265623092651 ], f =  <built-in method item of Tensor object at 0x111914120>\n",
      "x = [ -0.13107916712760925 -0.5902174711227417 -1.5766804218292236 ], f =  <built-in method item of Tensor object at 0x111914558>\n",
      "x = [ -0.14095032215118408 -0.5923644304275513 -1.5848745107650757 ], f =  <built-in method item of Tensor object at 0x111973f78>\n",
      "x = [ -0.14970603585243225 -0.5942444801330566 -1.5921223163604736 ], f =  <built-in method item of Tensor object at 0x111914120>\n",
      "x = [ -0.15746262669563293 -0.5958912372589111 -1.5985270738601685 ], f =  <built-in method item of Tensor object at 0x111914558>\n",
      "x = [ -0.16432660818099976 -0.5973338484764099 -1.604182243347168 ], f =  <built-in method item of Tensor object at 0x111973f78>\n",
      "x = [ -0.17039483785629272 -0.5985980033874512 -1.6091721057891846 ], f =  <built-in method item of Tensor object at 0x111914120>\n",
      "x = [ -0.17575505375862122 -0.5997058749198914 -1.613572120666504 ], f =  <built-in method item of Tensor object at 0x111914558>\n",
      "x = [ -0.18048639595508575 -0.600676953792572 -1.6174499988555908 ], f =  <built-in method item of Tensor object at 0x111973f78>\n",
      "x = [ -0.18465988337993622 -0.6015284061431885 -1.620866060256958 ], f =  <built-in method item of Tensor object at 0x111914120>\n",
      "x = [ -0.18833927810192108 -0.6022748947143555 -1.6238740682601929 ], f =  <built-in method item of Tensor object at 0x111914558>\n",
      "x = [ -0.1915813833475113 -0.6029297113418579 -1.6265218257904053 ], f =  <built-in method item of Tensor object at 0x111973f78>\n",
      "x = [ -0.19443699717521667 -0.603503942489624 -1.6288517713546753 ], f =  <built-in method item of Tensor object at 0x111914120>\n",
      "x = [ -0.19695116579532623 -0.6040076613426208 -1.6309014558792114 ], f =  <built-in method item of Tensor object at 0x111914558>\n",
      "x = [ -0.1991640031337738 -0.6044495701789856 -1.6327041387557983 ], f =  <built-in method item of Tensor object at 0x111973f78>\n",
      "x = [ -0.20111101865768433 -0.6048373579978943 -1.6342893838882446 ], f =  <built-in method item of Tensor object at 0x111914120>\n",
      "x = [ -0.20282377302646637 -0.6051775217056274 -1.6356830596923828 ], f =  <built-in method item of Tensor object at 0x11191aee8>\n",
      "x = [ -0.20433002710342407 -0.6054760813713074 -1.6369080543518066 ], f =  <built-in method item of Tensor object at 0x11191ae58>\n",
      "x = [ -0.20565444231033325 -0.60573810338974 -1.6379847526550293 ], f =  <built-in method item of Tensor object at 0x111973f78>\n",
      "x = [ -0.20681878924369812 -0.6059680581092834 -1.6389309167861938 ], f =  <built-in method item of Tensor object at 0x11191afc0>\n",
      "x = [ -0.20784224569797516 -0.6061698198318481 -1.639762282371521 ], f =  <built-in method item of Tensor object at 0x11191ae58>\n",
      "x = [ -0.20874172449111938 -0.6063469648361206 -1.6404927968978882 ], f =  <built-in method item of Tensor object at 0x111973f78>\n"
     ]
    }
   ],
   "source": [
    "for i in range(50):\n",
    "    g1, g2, g3 = f_grad(x1, x2, x3)\n",
    "    x1 = x1 - 0.1 * g1\n",
    "    x2 = x2 - 0.1 * g2\n",
    "    x3 = x3 - 0.1 * g3\n",
    "    x1 = x1.detach().requires_grad_(True)\n",
    "    x2 = x2.detach().requires_grad_(True)\n",
    "    x3 = x3.detach().requires_grad_(True)\n",
    "    print(\"x = [\",x1.item(), x2.item(), x3.item(),\"], f = \", f(x1, x2, x3).item)"
   ]
  },
  {
   "cell_type": "code",
   "execution_count": null,
   "metadata": {},
   "outputs": [],
   "source": []
  },
  {
   "cell_type": "code",
   "execution_count": null,
   "metadata": {},
   "outputs": [],
   "source": []
  }
 ],
 "metadata": {
  "anaconda-cloud": {},
  "kernelspec": {
   "display_name": "Python 3",
   "language": "python",
   "name": "python3"
  },
  "language_info": {
   "codemirror_mode": {
    "name": "ipython",
    "version": 3
   },
   "file_extension": ".py",
   "mimetype": "text/x-python",
   "name": "python",
   "nbconvert_exporter": "python",
   "pygments_lexer": "ipython3",
   "version": "3.6.7"
  }
 },
 "nbformat": 4,
 "nbformat_minor": 2
}
